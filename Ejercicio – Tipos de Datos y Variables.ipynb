{
 "cells": [
  {
   "cell_type": "code",
   "execution_count": 18,
   "id": "8b185e5a",
   "metadata": {},
   "outputs": [
    {
     "name": "stdout",
     "output_type": "stream",
     "text": [
      "Elige una opción:\n",
      "1 - Suma\n",
      "2 - Resta\n",
      "3 - Multiplicación\n",
      "4 - División\n",
      "5 - Potencia\n",
      "Elige una opción (1 | 2 | 3 | 4 | 5): 1\n",
      "escribe un primer número: 1\n",
      "escribe un segundo número: 1\n",
      "1.0 + 1.0 =  2.0\n",
      "Deseas continuar? Si or No?No\n",
      "Gracias\n"
     ]
    }
   ],
   "source": [
    "# Ejercicio 3\n",
    "def suma(a, b):\n",
    "    return a + b\n",
    "def resta(a, b):\n",
    "    return a - b\n",
    "def multiplicacion(a, b):\n",
    "    return a * b\n",
    "def division(a, b):\n",
    "    return a / b\n",
    "def potencia(a, b):\n",
    "    return a ** b\n",
    "\n",
    "print(\"Elige una opción:\")\n",
    "print(\"1 - Suma\")\n",
    "print(\"2 - Resta\")\n",
    "print(\"3 - Multiplicación\")\n",
    "print(\"4 - División\")\n",
    "print(\"5 - Potencia\")\n",
    "\n",
    "while True:\n",
    "    opcion = input(\"Elige una opción (1 | 2 | 3 | 4 | 5): \")\n",
    "    if opcion in ('1', '2', '3', '4', '5'):\n",
    "        numero1 = float(input(\"escribe un primer número: \"))\n",
    "        numero2 = float(input(\"escribe un segundo número: \"))\n",
    "        if opcion == '1':\n",
    "            print(f\"{numero1} + {numero2} = \", suma(numero1, numero2))\n",
    "        elif opcion == '2':\n",
    "            print(f\"{numero1} - {numero2} = \", resta(numero1, numero2))\n",
    "        elif opcion == '3':\n",
    "            print(f\"{numero1} * {numero2} = \", multiplicacion(numero1, numero2))\n",
    "        elif opcion == '4':\n",
    "            print(f\"{numero1} / {numero2} = \", division(numero1, numero2))\n",
    "        elif opcion == '5':\n",
    "            print(f\"{numero1} ** {numero2} = \", potencia(numero1, numero2))\n",
    "\n",
    "    else:\n",
    "        print(\"Opción no valida, intenta de nuevo\")\n",
    "\n",
    "  \n",
    "    continua = input(\"Deseas continuar? Si or No?\")\n",
    "    if continua in ('si', 'Si', 'SI'):\n",
    "        continue\n",
    "    else:\n",
    "        print (\"Gracias por participar\")\n",
    "        break"
   ]
  },
  {
   "cell_type": "code",
   "execution_count": null,
   "id": "b343a6ad",
   "metadata": {},
   "outputs": [],
   "source": []
  },
  {
   "cell_type": "code",
   "execution_count": null,
   "id": "71fc54c1",
   "metadata": {},
   "outputs": [],
   "source": []
  },
  {
   "cell_type": "code",
   "execution_count": null,
   "id": "ef1b55a3",
   "metadata": {},
   "outputs": [],
   "source": []
  },
  {
   "cell_type": "code",
   "execution_count": null,
   "id": "5ec4a10f",
   "metadata": {},
   "outputs": [],
   "source": []
  },
  {
   "cell_type": "code",
   "execution_count": null,
   "id": "7729af68",
   "metadata": {},
   "outputs": [],
   "source": []
  },
  {
   "cell_type": "code",
   "execution_count": null,
   "id": "1915fab4",
   "metadata": {},
   "outputs": [],
   "source": []
  },
  {
   "cell_type": "code",
   "execution_count": null,
   "id": "440b4154",
   "metadata": {},
   "outputs": [],
   "source": []
  },
  {
   "cell_type": "code",
   "execution_count": null,
   "id": "83ad1fdb",
   "metadata": {},
   "outputs": [],
   "source": []
  },
  {
   "cell_type": "code",
   "execution_count": null,
   "id": "3203675b",
   "metadata": {},
   "outputs": [],
   "source": []
  },
  {
   "cell_type": "code",
   "execution_count": null,
   "id": "e2abecc9",
   "metadata": {},
   "outputs": [],
   "source": []
  },
  {
   "cell_type": "code",
   "execution_count": null,
   "id": "0b11debb",
   "metadata": {},
   "outputs": [],
   "source": []
  }
 ],
 "metadata": {
  "kernelspec": {
   "display_name": "Python 3 (ipykernel)",
   "language": "python",
   "name": "python3"
  },
  "language_info": {
   "codemirror_mode": {
    "name": "ipython",
    "version": 3
   },
   "file_extension": ".py",
   "mimetype": "text/x-python",
   "name": "python",
   "nbconvert_exporter": "python",
   "pygments_lexer": "ipython3",
   "version": "3.9.13"
  }
 },
 "nbformat": 4,
 "nbformat_minor": 5
}
